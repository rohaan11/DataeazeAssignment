{
 "cells": [
  {
   "cell_type": "markdown",
   "metadata": {},
   "source": [
    "# Spark Practice"
   ]
  },
  {
   "cell_type": "code",
   "execution_count": 1,
   "metadata": {},
   "outputs": [],
   "source": [
    "import os\n",
    "os.getenv(\"de\")"
   ]
  },
  {
   "cell_type": "code",
   "execution_count": 2,
   "metadata": {},
   "outputs": [],
   "source": [
    "from pyspark import SparkConf, SparkContext\n",
    "from pyspark.sql import SparkSession"
   ]
  },
  {
   "cell_type": "code",
   "execution_count": 3,
   "metadata": {},
   "outputs": [],
   "source": [
    "spark=SparkSession.builder.master(\"local\").appName(\"de\").getOrCreate()\n",
    "conf=SparkConf().setMaster(\"local\").setAppName(\"de\")\n",
    "sc=SparkContext.getOrCreate()"
   ]
  },
  {
   "cell_type": "code",
   "execution_count": 4,
   "metadata": {},
   "outputs": [
    {
     "data": {
      "text/html": [
       "\n",
       "            <div>\n",
       "                <p><b>SparkSession - in-memory</b></p>\n",
       "                \n",
       "        <div>\n",
       "            <p><b>SparkContext</b></p>\n",
       "\n",
       "            <p><a href=\"http://ADMINRG-R9LIQGS:4040\">Spark UI</a></p>\n",
       "\n",
       "            <dl>\n",
       "              <dt>Version</dt>\n",
       "                <dd><code>v3.0.1</code></dd>\n",
       "              <dt>Master</dt>\n",
       "                <dd><code>local</code></dd>\n",
       "              <dt>AppName</dt>\n",
       "                <dd><code>de</code></dd>\n",
       "            </dl>\n",
       "        </div>\n",
       "        \n",
       "            </div>\n",
       "        "
      ],
      "text/plain": [
       "<pyspark.sql.session.SparkSession at 0x231f09ebbe0>"
      ]
     },
     "execution_count": 4,
     "metadata": {},
     "output_type": "execute_result"
    }
   ],
   "source": [
    "spark"
   ]
  },
  {
   "cell_type": "markdown",
   "metadata": {},
   "source": [
    "* Load Parquet file and CSV file"
   ]
  },
  {
   "cell_type": "code",
   "execution_count": 5,
   "metadata": {},
   "outputs": [],
   "source": [
    "consumerinternParaq = spark.read.parquet(\"consumerInternet.parquet\")"
   ]
  },
  {
   "cell_type": "code",
   "execution_count": 6,
   "metadata": {},
   "outputs": [
    {
     "data": {
      "text/plain": [
       "pyspark.sql.dataframe.DataFrame"
      ]
     },
     "execution_count": 6,
     "metadata": {},
     "output_type": "execute_result"
    }
   ],
   "source": [
    "type(consumerinternParaq)"
   ]
  },
  {
   "cell_type": "code",
   "execution_count": 7,
   "metadata": {},
   "outputs": [
    {
     "name": "stdout",
     "output_type": "stream",
     "text": [
      "941 10\n"
     ]
    }
   ],
   "source": [
    "print(consumerinternParaq.count(), len(consumerinternParaq.columns))"
   ]
  },
  {
   "cell_type": "code",
   "execution_count": 8,
   "metadata": {},
   "outputs": [
    {
     "name": "stdout",
     "output_type": "stream",
     "text": [
      "+-----+----------+------------+-----------------+------------------------------------------------------------------------+---------+-------------------------------------------------------------------------------------+---------------+-------------+-------+\n",
      "|Sr_No|Date      |Startup_Name|Industry_Vertical|SubVertical                                                             |City     |Investors_Name                                                                       |InvestmentnType|Amount_in_USD|Remarks|\n",
      "+-----+----------+------------+-----------------+------------------------------------------------------------------------+---------+-------------------------------------------------------------------------------------+---------------+-------------+-------+\n",
      "|152  |01/09/2018|Netmeds     |Consumer Internet|Online Pharmacy Chain                                                   |Chennai  |Sistema Asia Fund, Sistema JSFC and Tanncam Investment                               |Private Equity |3,50,00,000  |nan    |\n",
      "|154  |03/09/2018|Daily hunt  |Consumer Internet|News and ebooks Mobile App\\\\xc2\\\\xa0                                    |Bengaluru|Falcon Edge                                                                          |Private Equity |63,90,000    |nan    |\n",
      "|156  |04/09/2018|HappyGoEasy |Consumer Internet|Online Travel Agecy                                                     |Gurugram |Korea Investment Partners (KIP), Samsung and China-based CITIC Capital and others    |Private Equity |N/A          |nan    |\n",
      "|157  |05/09/2018|Nykaa       |Consumer Internet|Online Marketplace For Multi-brand Beauty Cosmetic and Wellness Products|Mumbai   |Lighthouse                                                                           |Private Equity |15,72,00,000 |nan    |\n",
      "|159  |06/09/2018|Dream11     |Consumer Internet|Online Gaming Platform                                                  |Mumbai   |Tencent, Kalaari Capital and Private equity firm Multiples Alternate Asset Management|Private Equity |10,00,00,000 |nan    |\n",
      "+-----+----------+------------+-----------------+------------------------------------------------------------------------+---------+-------------------------------------------------------------------------------------+---------------+-------------+-------+\n",
      "only showing top 5 rows\n",
      "\n"
     ]
    }
   ],
   "source": [
    "consumerinternParaq.show(5, truncate=False)"
   ]
  },
  {
   "cell_type": "code",
   "execution_count": 9,
   "metadata": {},
   "outputs": [
    {
     "name": "stdout",
     "output_type": "stream",
     "text": [
      "root\n",
      " |-- Sr_No: string (nullable = true)\n",
      " |-- Date: string (nullable = true)\n",
      " |-- Startup_Name: string (nullable = true)\n",
      " |-- Industry_Vertical: string (nullable = true)\n",
      " |-- SubVertical: string (nullable = true)\n",
      " |-- City: string (nullable = true)\n",
      " |-- Investors_Name: string (nullable = true)\n",
      " |-- InvestmentnType: string (nullable = true)\n",
      " |-- Amount_in_USD: string (nullable = true)\n",
      " |-- Remarks: string (nullable = true)\n",
      "\n"
     ]
    }
   ],
   "source": [
    "consumerinternParaq.printSchema()"
   ]
  },
  {
   "cell_type": "code",
   "execution_count": 10,
   "metadata": {},
   "outputs": [],
   "source": [
    "startupFPath=\"startup.csv\"\n",
    "startupF=spark.read.format(\"csv\").option(\"inferSchema\", \"true\").option(\"header\", \"true\").load(startupFPath)"
   ]
  },
  {
   "cell_type": "code",
   "execution_count": 11,
   "metadata": {},
   "outputs": [
    {
     "name": "stdout",
     "output_type": "stream",
     "text": [
      "2103 10\n"
     ]
    }
   ],
   "source": [
    "print(startupF.count(), len(startupF.columns))"
   ]
  },
  {
   "cell_type": "code",
   "execution_count": 12,
   "metadata": {},
   "outputs": [
    {
     "name": "stdout",
     "output_type": "stream",
     "text": [
      "+-----+----------+--------------------+-------------------+--------------------+---------+--------------------+--------------------+-------------+-------+\n",
      "|Sr_No|      Date|        Startup_Name|  Industry_Vertical|         SubVertical|     City|      Investors_Name|     InvestmentnType|Amount_in_USD|Remarks|\n",
      "+-----+----------+--------------------+-------------------+--------------------+---------+--------------------+--------------------+-------------+-------+\n",
      "|    1|09/01/2020|              BYJU’S|             E-Tech|          E-learning|Bengaluru|Tiger Global Mana...|Private Equity Round| 20,00,00,000|   null|\n",
      "|    2|13/01/2020|              Shuttl|     Transportation|App based shuttle...|  Gurgaon|Susquehanna Growt...|            Series C|    80,48,394|   null|\n",
      "|    3|09/01/2020|           Mamaearth|         E-commerce|Retailer of baby ...|Bengaluru|Sequoia Capital I...|            Series B|  1,83,58,860|   null|\n",
      "|    4|02/01/2020|https://www.wealt...|            FinTech|   Online Investment|New Delhi|      Vinod Khatumal|        Pre-series A|    30,00,000|   null|\n",
      "|    5|02/01/2020|              Fashor|Fashion and Apparel|Embroiled Clothes...|   Mumbai|Sprout Venture Pa...|          Seed Round|    18,00,000|   null|\n",
      "+-----+----------+--------------------+-------------------+--------------------+---------+--------------------+--------------------+-------------+-------+\n",
      "only showing top 5 rows\n",
      "\n"
     ]
    }
   ],
   "source": [
    "startupF.show(5, truncate=True)"
   ]
  },
  {
   "cell_type": "code",
   "execution_count": 13,
   "metadata": {},
   "outputs": [
    {
     "name": "stdout",
     "output_type": "stream",
     "text": [
      "root\n",
      " |-- Sr_No: integer (nullable = true)\n",
      " |-- Date: string (nullable = true)\n",
      " |-- Startup_Name: string (nullable = true)\n",
      " |-- Industry_Vertical: string (nullable = true)\n",
      " |-- SubVertical: string (nullable = true)\n",
      " |-- City: string (nullable = true)\n",
      " |-- Investors_Name: string (nullable = true)\n",
      " |-- InvestmentnType: string (nullable = true)\n",
      " |-- Amount_in_USD: string (nullable = true)\n",
      " |-- Remarks: string (nullable = true)\n",
      "\n"
     ]
    }
   ],
   "source": [
    "startupF.printSchema()"
   ]
  },
  {
   "cell_type": "markdown",
   "metadata": {},
   "source": [
    "### Compbine consumer and startup files in SQL tables first"
   ]
  },
  {
   "cell_type": "markdown",
   "metadata": {},
   "source": [
    "* Convert consumer df in to sql table"
   ]
  },
  {
   "cell_type": "code",
   "execution_count": 14,
   "metadata": {},
   "outputs": [],
   "source": [
    "## Register the dataframe as a table\n",
    "consumerinternParaq.createOrReplaceTempView(\"consumerinternParaq\")"
   ]
  },
  {
   "cell_type": "code",
   "execution_count": 15,
   "metadata": {},
   "outputs": [],
   "source": [
    "countconsumerrecords=spark.sql('''\n",
    "select count(*) from consumerinternParaq\n",
    "''')"
   ]
  },
  {
   "cell_type": "code",
   "execution_count": 16,
   "metadata": {},
   "outputs": [
    {
     "name": "stdout",
     "output_type": "stream",
     "text": [
      "+--------+\n",
      "|count(1)|\n",
      "+--------+\n",
      "|941     |\n",
      "+--------+\n",
      "\n"
     ]
    }
   ],
   "source": [
    "countconsumerrecords.show(5, truncate=False)"
   ]
  },
  {
   "cell_type": "markdown",
   "metadata": {},
   "source": [
    "* Convert startup df in to sql table"
   ]
  },
  {
   "cell_type": "code",
   "execution_count": 17,
   "metadata": {},
   "outputs": [],
   "source": [
    "## Register the dataframe as a table\n",
    "startupF.createOrReplaceTempView(\"startupF\")"
   ]
  },
  {
   "cell_type": "code",
   "execution_count": 18,
   "metadata": {},
   "outputs": [],
   "source": [
    "countsratuprecords=spark.sql('''\n",
    "select count(*) from startupF\n",
    "''')"
   ]
  },
  {
   "cell_type": "code",
   "execution_count": 19,
   "metadata": {},
   "outputs": [
    {
     "name": "stdout",
     "output_type": "stream",
     "text": [
      "+--------+\n",
      "|count(1)|\n",
      "+--------+\n",
      "|2103    |\n",
      "+--------+\n",
      "\n"
     ]
    }
   ],
   "source": [
    "countsratuprecords.show(5, truncate=False)"
   ]
  },
  {
   "cell_type": "markdown",
   "metadata": {},
   "source": [
    "* Combine two SQL tables by UNION clause"
   ]
  },
  {
   "cell_type": "code",
   "execution_count": 20,
   "metadata": {},
   "outputs": [],
   "source": [
    "sqlwaydfconsumerinternstartup=spark.sql('''\n",
    "select * from consumerinternParaq UNION select * from startupF\n",
    "''')"
   ]
  },
  {
   "cell_type": "markdown",
   "metadata": {},
   "source": [
    "### Here is the combined table in SQL"
   ]
  },
  {
   "cell_type": "code",
   "execution_count": 21,
   "metadata": {},
   "outputs": [],
   "source": [
    "sqlwaydfconsumerinternstartup.createOrReplaceTempView('sqlwaydfconsumerinternstartup')"
   ]
  },
  {
   "cell_type": "code",
   "execution_count": 22,
   "metadata": {},
   "outputs": [],
   "source": [
    "temptotalrecords=spark.sql('''\n",
    "select count(*) from sqlwaydfconsumerinternstartup\n",
    "''')"
   ]
  },
  {
   "cell_type": "code",
   "execution_count": 23,
   "metadata": {},
   "outputs": [
    {
     "name": "stdout",
     "output_type": "stream",
     "text": [
      "+--------+\n",
      "|count(1)|\n",
      "+--------+\n",
      "|3044    |\n",
      "+--------+\n",
      "\n"
     ]
    }
   ],
   "source": [
    "temptotalrecords.show(5, truncate=False)"
   ]
  },
  {
   "cell_type": "markdown",
   "metadata": {},
   "source": [
    "### Question Answers"
   ]
  },
  {
   "cell_type": "markdown",
   "metadata": {},
   "source": [
    "### Ans A: How many startups are there in Pune City?"
   ]
  },
  {
   "cell_type": "code",
   "execution_count": 24,
   "metadata": {},
   "outputs": [],
   "source": [
    "sqlwayconsumerstartupsinpune=spark.sql('''\n",
    "select count(*) from sqlwaydfconsumerinternstartup where City='Pune'\n",
    "''')"
   ]
  },
  {
   "cell_type": "code",
   "execution_count": 25,
   "metadata": {},
   "outputs": [
    {
     "name": "stdout",
     "output_type": "stream",
     "text": [
      "+--------+\n",
      "|count(1)|\n",
      "+--------+\n",
      "|105     |\n",
      "+--------+\n",
      "\n"
     ]
    }
   ],
   "source": [
    "sqlwayconsumerstartupsinpune.show(5, truncate=False)"
   ]
  },
  {
   "cell_type": "markdown",
   "metadata": {},
   "source": [
    "### Ans B: How many startups in Pune got their Seed/ Angel Funding?"
   ]
  },
  {
   "cell_type": "code",
   "execution_count": 26,
   "metadata": {},
   "outputs": [],
   "source": [
    "sqlwayconsumerstartupsinpuneinvestseedangel=spark.sql('''\n",
    "select count(*) from sqlwaydfconsumerinternstartup where City='Pune' and InvestmentnType='Seed / Angel Funding'\n",
    "''')"
   ]
  },
  {
   "cell_type": "code",
   "execution_count": 27,
   "metadata": {},
   "outputs": [
    {
     "name": "stdout",
     "output_type": "stream",
     "text": [
      "+--------+\n",
      "|count(1)|\n",
      "+--------+\n",
      "|3       |\n",
      "+--------+\n",
      "\n"
     ]
    }
   ],
   "source": [
    "sqlwayconsumerstartupsinpuneinvestseedangel.show(5, truncate=False)"
   ]
  },
  {
   "cell_type": "markdown",
   "metadata": {},
   "source": [
    "### Ans C: What is the total amount raised by startups in Pune City? Hint - use regex_replace to get rid of null"
   ]
  },
  {
   "cell_type": "markdown",
   "metadata": {},
   "source": [
    "* Make sure the data is in appropriate format\n",
    "1. Amount column has (,) commas in it\n",
    "2. It also has N/A values"
   ]
  },
  {
   "cell_type": "code",
   "execution_count": 28,
   "metadata": {},
   "outputs": [],
   "source": [
    "sqlwayremovealpha=spark.sql('''\n",
    "SELECT sum(REGEXP_REPLACE( Amount_in_USD, '[^0-9]+', '' )) AS PuneStartupRaised FROM sqlwaydfconsumerinternstartup where City='Pune'\n",
    "''')"
   ]
  },
  {
   "cell_type": "code",
   "execution_count": 29,
   "metadata": {},
   "outputs": [],
   "source": [
    "# sqlwayremovealpha=spark.sql('''\n",
    "# SELECT REGEXP_REPLACE( Amount_in_USD, '[^0-9]+', '' ) AS commaremovedamount FROM sqlwaydfconsumerinternstartup where City='Pune'\n",
    "# ''')"
   ]
  },
  {
   "cell_type": "code",
   "execution_count": 30,
   "metadata": {},
   "outputs": [
    {
     "name": "stdout",
     "output_type": "stream",
     "text": [
      "+-----------------+\n",
      "|PuneStartupRaised|\n",
      "+-----------------+\n",
      "|6.33082E8        |\n",
      "+-----------------+\n",
      "\n"
     ]
    }
   ],
   "source": [
    "sqlwayremovealpha.show(20, truncate=False)"
   ]
  },
  {
   "cell_type": "markdown",
   "metadata": {},
   "source": [
    "### Ans D: What are the top 5 Industry_Vertical which has the highest number of startups in India?"
   ]
  },
  {
   "cell_type": "code",
   "execution_count": 31,
   "metadata": {},
   "outputs": [],
   "source": [
    "# What are the top 5 Industry_Vertical which has the highest number of startups in India?\n",
    "topfiv = spark.sql('''select Industry_Vertical, count(Startup_Name) sup_count from sqlwaydfconsumerinternstartup group by Industry_Vertical order by sup_count desc limit 5''')"
   ]
  },
  {
   "cell_type": "code",
   "execution_count": 32,
   "metadata": {},
   "outputs": [
    {
     "name": "stdout",
     "output_type": "stream",
     "text": [
      "+-----------------+---------+\n",
      "|Industry_Vertical|sup_count|\n",
      "+-----------------+---------+\n",
      "|Consumer Internet|941      |\n",
      "|Technology       |478      |\n",
      "|eCommerce        |186      |\n",
      "|nan              |171      |\n",
      "|Healthcare       |70       |\n",
      "+-----------------+---------+\n",
      "\n"
     ]
    }
   ],
   "source": [
    "topfiv.show(5, truncate=False)"
   ]
  },
  {
   "cell_type": "markdown",
   "metadata": {},
   "source": [
    "### Ans E: Find the top Investor(by amount) of each year"
   ]
  },
  {
   "cell_type": "code",
   "execution_count": 33,
   "metadata": {},
   "outputs": [],
   "source": [
    "# sqlwaytop5investoreachyear=spark.sql('''\n",
    "# select SUBSTRING(Date, -4, 4) as yearonly, Amount_in_USD from sqlwaydfconsumerinternstartup\n",
    "# ''')"
   ]
  },
  {
   "cell_type": "code",
   "execution_count": 34,
   "metadata": {},
   "outputs": [],
   "source": [
    "# sqlwaytop5investoreachyear=spark.sql('''\n",
    "# select Investors_Name, SUBSTRING(Date, -4, 4) as yearonly from sqlwaydfconsumerinternstartup\n",
    "# ''')"
   ]
  },
  {
   "cell_type": "code",
   "execution_count": 35,
   "metadata": {},
   "outputs": [],
   "source": [
    "sqlwayinvyearamount=spark.sql('''\n",
    "SELECT Investors_Name, SUBSTRING(Date, -4, 4) as yearonly, REGEXP_REPLACE( Amount_in_USD, '[^0-9]+', '' ) AS amountz  FROM sqlwaydfconsumerinternstartup\n",
    "''')"
   ]
  },
  {
   "cell_type": "code",
   "execution_count": 36,
   "metadata": {},
   "outputs": [
    {
     "name": "stdout",
     "output_type": "stream",
     "text": [
      "+------------------------------------------------------------------------------------------------------------------------------------------------------------------+--------+--------+\n",
      "|Investors_Name                                                                                                                                                    |yearonly|amountz |\n",
      "+------------------------------------------------------------------------------------------------------------------------------------------------------------------+--------+--------+\n",
      "|N/A                                                                                                                                                               |2017    |        |\n",
      "|Alex Chua, Rahul Garg                                                                                                                                             |2016    |        |\n",
      "|Undisclosed Investor                                                                                                                                              |2016    |75000   |\n",
      "|Dheeraj Jain & Other angel investors                                                                                                                              |2016    |400000  |\n",
      "|Aqeel Ahmed                                                                                                                                                       |2016    |        |\n",
      "|Sequoia Capital India                                                                                                                                             |2018    |14680000|\n",
      "|Ranjan Pai, Apoorva Patni, Beenext Ventures,GrowX Ventures                                                                                                        |2018    |2100000 |\n",
      "|HDFC Life, HDFC Asset Management                                                                                                                                  |2018    |10000000|\n",
      "|Social Capital                                                                                                                                                    |2018    |        |\n",
      "|Mohan Tanksale, Kiran Shetty, Darshak Shah, Mandar Mhatre                                                                                                         |2017    |        |\n",
      "|Triton Investment Advisors                                                                                                                                        |2017    |        |\n",
      "|Indian Angel Network                                                                                                                                              |2017    |443000  |\n",
      "|Abhijit Avasthi, Karan Chellani, SP Vijay                                                                                                                         |2016    |        |\n",
      "|Prime Venture Partners                                                                                                                                            |2016    |1000000 |\n",
      "|Indian Angel Network                                                                                                                                              |2016    |        |\n",
      "|Sequoia Capital, Times Internet Ltd & One more Fund                                                                                                               |2015    |20000000|\n",
      "|Chennai Angels, Calcutta Angels, ah! Ventures, Intellecap Impact Investment Network, Indus Age Partners, Singapore Angel Network, India Internet Fund, LetsVenture|2015    |700000  |\n",
      "|\\xc2\\xa0Rajeev Saraf, Arvind Jha, R. Satya Narayanan                                                                                                              |2015    |20      |\n",
      "|Ritesh Veera, Singapore Angel Network, Orios Venture Partners,                                                                                                    |2015    |300000  |\n",
      "|IDG Ventures, Kris Gopalakrishnan                                                                                                                                 |2015    |        |\n",
      "+------------------------------------------------------------------------------------------------------------------------------------------------------------------+--------+--------+\n",
      "only showing top 20 rows\n",
      "\n"
     ]
    }
   ],
   "source": [
    "sqlwayinvyearamount.show(20, truncate=False)"
   ]
  },
  {
   "cell_type": "code",
   "execution_count": 37,
   "metadata": {},
   "outputs": [],
   "source": [
    "sqlwayinvyearamount.createOrReplaceTempView('sqlwayinvyearamount')"
   ]
  },
  {
   "cell_type": "code",
   "execution_count": 38,
   "metadata": {},
   "outputs": [
    {
     "name": "stdout",
     "output_type": "stream",
     "text": [
      "root\n",
      " |-- Investors_Name: string (nullable = true)\n",
      " |-- yearonly: string (nullable = true)\n",
      " |-- amountz: string (nullable = true)\n",
      "\n"
     ]
    }
   ],
   "source": [
    "sqlwayinvyearamount.printSchema()"
   ]
  },
  {
   "cell_type": "code",
   "execution_count": 39,
   "metadata": {},
   "outputs": [
    {
     "name": "stdout",
     "output_type": "stream",
     "text": [
      "+------------------------------------+--------+-------+\n",
      "|Investors_Name                      |yearonly|amountz|\n",
      "+------------------------------------+--------+-------+\n",
      "|N/A                                 |2017    |       |\n",
      "|Alex Chua, Rahul Garg               |2016    |       |\n",
      "|Undisclosed Investor                |2016    |75000  |\n",
      "|Dheeraj Jain & Other angel investors|2016    |400000 |\n",
      "|Aqeel Ahmed                         |2016    |       |\n",
      "+------------------------------------+--------+-------+\n",
      "only showing top 5 rows\n",
      "\n"
     ]
    }
   ],
   "source": [
    "sqlwayinvyearamount.show(5, truncate=False)"
   ]
  },
  {
   "cell_type": "code",
   "execution_count": 40,
   "metadata": {},
   "outputs": [],
   "source": [
    "sqlwaytop5investor1=spark.sql('''\n",
    "select yearonly, CAST(max(amountz) AS LONG) as maxinvestofyear from sqlwayinvyearamount group by yearonly  order by maxinvestofyear desc LIMIT 5\n",
    "''')"
   ]
  },
  {
   "cell_type": "code",
   "execution_count": 41,
   "metadata": {},
   "outputs": [
    {
     "name": "stdout",
     "output_type": "stream",
     "text": [
      "+--------+---------------+\n",
      "|yearonly|maxinvestofyear|\n",
      "+--------+---------------+\n",
      "|2015    |9600000        |\n",
      "|2017    |9500000        |\n",
      "|2020    |9000000        |\n",
      "|2019    |9000000        |\n",
      "|2018    |978000         |\n",
      "+--------+---------------+\n",
      "\n"
     ]
    }
   ],
   "source": [
    "sqlwaytop5investor1.show(20, truncate=False)"
   ]
  },
  {
   "cell_type": "code",
   "execution_count": 42,
   "metadata": {},
   "outputs": [],
   "source": [
    "sqlwaytop5investor1.createOrReplaceTempView('sqlwaytop5investor1')"
   ]
  },
  {
   "cell_type": "code",
   "execution_count": 43,
   "metadata": {},
   "outputs": [],
   "source": [
    "# sqlwaygetinvstnamestop5=spark.sql('''\n",
    "# select * from sqlwayinvyearamount as a inner join sqlwaytop5investor1 as b on a.yearonly= b.yearonly and a.amountz=b.maxinvestofyear\n",
    "# ''')"
   ]
  },
  {
   "cell_type": "code",
   "execution_count": 44,
   "metadata": {},
   "outputs": [],
   "source": [
    "sqlwaygetinvstnamestop5=spark.sql('''\n",
    "select * from sqlwayinvyearamount as a inner join sqlwaytop5investor1 as b on a.yearonly= b.yearonly and a.amountz=b.maxinvestofyear order by b.maxinvestofyear desc\n",
    "''')"
   ]
  },
  {
   "cell_type": "code",
   "execution_count": 45,
   "metadata": {},
   "outputs": [
    {
     "name": "stdout",
     "output_type": "stream",
     "text": [
      "+-------------------------------------+--------+-------+--------+---------------+\n",
      "|Investors_Name                       |yearonly|amountz|yearonly|maxinvestofyear|\n",
      "+-------------------------------------+--------+-------+--------+---------------+\n",
      "|Sequoia Capital, Accel Partners      |2015    |9600000|2015    |9600000        |\n",
      "|Costanoa, Learn Capital, Jyoti Bansal|2017    |9500000|2017    |9500000        |\n",
      "|Chiratae Ventures                    |2020    |9000000|2020    |9000000        |\n",
      "|Matrix Partners                      |2019    |9000000|2019    |9000000        |\n",
      "|SAR Group                            |2018    |978000 |2018    |978000         |\n",
      "+-------------------------------------+--------+-------+--------+---------------+\n",
      "\n"
     ]
    }
   ],
   "source": [
    "sqlwaygetinvstnamestop5.show(5, truncate=False)"
   ]
  },
  {
   "cell_type": "markdown",
   "metadata": {},
   "source": [
    "## Bonus Questions and Answer"
   ]
  },
  {
   "cell_type": "markdown",
   "metadata": {},
   "source": [
    "### Ans 1. Find the top startup(by amount raised) from each city?"
   ]
  },
  {
   "cell_type": "code",
   "execution_count": 50,
   "metadata": {},
   "outputs": [],
   "source": [
    "sqlwaytopstrtbycity=spark.sql('''\n",
    "SELECT Startup_Name,City, REGEXP_REPLACE( Amount_in_USD, '[^0-9]+', '' ) AS amountz  FROM sqlwaydfconsumerinternstartup \n",
    "''')"
   ]
  },
  {
   "cell_type": "code",
   "execution_count": 51,
   "metadata": {},
   "outputs": [
    {
     "name": "stdout",
     "output_type": "stream",
     "text": [
      "+----------------------+---------+-------+\n",
      "|Startup_Name          |City     |amountz|\n",
      "+----------------------+---------+-------+\n",
      "|Cube Consumer Services|Mumbai   |       |\n",
      "|Pitstop               |Bangalore|       |\n",
      "|GoGo Truck            |Chennai  |75000  |\n",
      "|Justride              |Mumbai   |400000 |\n",
      "|GlamStudios           |Noida    |       |\n",
      "+----------------------+---------+-------+\n",
      "only showing top 5 rows\n",
      "\n"
     ]
    }
   ],
   "source": [
    "sqlwaytopstrtbycity.show(5, truncate=False)"
   ]
  },
  {
   "cell_type": "code",
   "execution_count": 54,
   "metadata": {},
   "outputs": [
    {
     "name": "stdout",
     "output_type": "stream",
     "text": [
      "root\n",
      " |-- Startup_Name: string (nullable = true)\n",
      " |-- City: string (nullable = true)\n",
      " |-- amountz: string (nullable = true)\n",
      "\n"
     ]
    }
   ],
   "source": [
    "sqlwaytopstrtbycity.printSchema()"
   ]
  },
  {
   "cell_type": "code",
   "execution_count": 53,
   "metadata": {},
   "outputs": [],
   "source": [
    "sqlwaytopstrtbycity.createOrReplaceTempView('sqlwaytopstrtbycity')"
   ]
  },
  {
   "cell_type": "code",
   "execution_count": 59,
   "metadata": {},
   "outputs": [],
   "source": [
    "# temp3=spark.sql('''\n",
    "# select distinct(City)  from sqlwaytopstrtbycity \n",
    "# ''').show()"
   ]
  },
  {
   "cell_type": "code",
   "execution_count": 68,
   "metadata": {},
   "outputs": [],
   "source": [
    "sqlwaytopstartcityaggre=spark.sql('''\n",
    "select City, CAST(max(amountz) AS LONG) as maxofcity  from sqlwaytopstrtbycity group by City order by maxofcity desc \n",
    "''')"
   ]
  },
  {
   "cell_type": "code",
   "execution_count": 69,
   "metadata": {},
   "outputs": [
    {
     "name": "stdout",
     "output_type": "stream",
     "text": [
      "+-------------------+----------+\n",
      "|City               |maxofcity |\n",
      "+-------------------+----------+\n",
      "|\\\\xc2\\\\xa0Noida    |2020000000|\n",
      "|\\\\xc2\\\\xa0Mumbai   |2019350000|\n",
      "|\\\\xc2\\\\xa0Bangalore|2016200000|\n",
      "|Menlo Park         |450000000 |\n",
      "|California         |300000000 |\n",
      "|Kormangala         |283000000 |\n",
      "|Nairobi            |273903468 |\n",
      "|Faridabad          |231000000 |\n",
      "|India/Singapore    |226000000 |\n",
      "|Tulangan           |200000000 |\n",
      "|San Jose,          |135000000 |\n",
      "|Santa Monica       |110000000 |\n",
      "|New Delhi / US     |63000000  |\n",
      "|Singapore          |60000000  |\n",
      "|New York           |52000000  |\n",
      "|Palo Alto          |51000000  |\n",
      "|India              |42000000  |\n",
      "|Taramani           |38080000  |\n",
      "|San Francisco      |37000000  |\n",
      "|Surat              |36230000  |\n",
      "+-------------------+----------+\n",
      "only showing top 20 rows\n",
      "\n"
     ]
    }
   ],
   "source": [
    "sqlwaytopstartcityaggre.show(truncate=False)"
   ]
  },
  {
   "cell_type": "code",
   "execution_count": 63,
   "metadata": {},
   "outputs": [],
   "source": [
    "sqlwaytopstartcityaggre.createOrReplaceTempView('sqlwaytopstartcityaggre')"
   ]
  },
  {
   "cell_type": "code",
   "execution_count": 65,
   "metadata": {},
   "outputs": [],
   "source": [
    "sqlwayamountraisedbystartupinthecity=spark.sql('''\n",
    "select * from sqlwaytopstrtbycity as a inner join sqlwaytopstartcityaggre as b on a.City= b.City and a.amountz=b.maxofcity order by b.maxofcity desc\n",
    "''')"
   ]
  },
  {
   "cell_type": "code",
   "execution_count": 67,
   "metadata": {},
   "outputs": [
    {
     "name": "stdout",
     "output_type": "stream",
     "text": [
      "+-------------------------------+-------------------+----------+-------------------+----------+\n",
      "|Startup_Name                   |City               |amountz   |City               |maxofcity |\n",
      "+-------------------------------+-------------------+----------+-------------------+----------+\n",
      "|\\\\xc2\\\\xa0News in shorts       |\\\\xc2\\\\xa0Noida    |2020000000|\\\\xc2\\\\xa0Noida    |2020000000|\n",
      "|\\\\xc2\\\\xa0Loylty Rewards       |\\\\xc2\\\\xa0Mumbai   |2019350000|\\\\xc2\\\\xa0Mumbai   |2019350000|\n",
      "|\\\\xc2\\\\xa0Bluestone            |\\\\xc2\\\\xa0Bangalore|2016200000|\\\\xc2\\\\xa0Bangalore|2016200000|\n",
      "|GOQii                          |Menlo Park         |450000000 |Menlo Park         |450000000 |\n",
      "|Automation Anywhere            |California         |300000000 |California         |300000000 |\n",
      "|Vogo Automotive                |Kormangala         |283000000 |Kormangala         |283000000 |\n",
      "|Sistema.bio                    |Nairobi            |273903468 |Nairobi            |273903468 |\n",
      "|Lenskart.com                   |Faridabad          |231000000 |Faridabad          |231000000 |\n",
      "|Zilingo                        |India/Singapore    |226000000 |India/Singapore    |226000000 |\n",
      "|Furtados School of Music       |Tulangan           |200000000 |Tulangan           |200000000 |\n",
      "|Clumio                         |San Jose,          |135000000 |San Jose,          |135000000 |\n",
      "|Tala                           |Santa Monica       |110000000 |Santa Monica       |110000000 |\n",
      "|Infogain                       |New Delhi / US     |63000000  |New Delhi / US     |63000000  |\n",
      "|Moglix                         |Singapore          |60000000  |Singapore          |60000000  |\n",
      "|Biz2Credit                     |New York           |52000000  |New York           |52000000  |\n",
      "|Uniphore                       |Palo Alto          |51000000  |Palo Alto          |51000000  |\n",
      "|InCred Finance                 |India              |42000000  |India              |42000000  |\n",
      "|Uniphore                       |Taramani           |38080000  |Taramani           |38080000  |\n",
      "|Zendrive                       |San Francisco      |37000000  |San Francisco      |37000000  |\n",
      "|Sahajanand Medical Technologies|Surat              |36230000  |Surat              |36230000  |\n",
      "+-------------------------------+-------------------+----------+-------------------+----------+\n",
      "only showing top 20 rows\n",
      "\n"
     ]
    }
   ],
   "source": [
    "sqlwayamountraisedbystartupinthecity.show(truncate=False)"
   ]
  },
  {
   "cell_type": "markdown",
   "metadata": {},
   "source": [
    "### Ans 2. Which SubVertical had the highest growth(in number of startups) over the years?"
   ]
  },
  {
   "cell_type": "code",
   "execution_count": 70,
   "metadata": {},
   "outputs": [
    {
     "name": "stdout",
     "output_type": "stream",
     "text": [
      "root\n",
      " |-- Sr_No: string (nullable = true)\n",
      " |-- Date: string (nullable = true)\n",
      " |-- Startup_Name: string (nullable = true)\n",
      " |-- Industry_Vertical: string (nullable = true)\n",
      " |-- SubVertical: string (nullable = true)\n",
      " |-- City: string (nullable = true)\n",
      " |-- Investors_Name: string (nullable = true)\n",
      " |-- InvestmentnType: string (nullable = true)\n",
      " |-- Amount_in_USD: string (nullable = true)\n",
      " |-- Remarks: string (nullable = true)\n",
      "\n"
     ]
    }
   ],
   "source": [
    "sqlwaydfconsumerinternstartup.printSchema()"
   ]
  },
  {
   "cell_type": "code",
   "execution_count": 93,
   "metadata": {},
   "outputs": [
    {
     "name": "stdout",
     "output_type": "stream",
     "text": [
      "+-----------------------+------------+\n",
      "|SubVertical            |noofstartups|\n",
      "+-----------------------+------------+\n",
      "|Online Lending Platform|11          |\n",
      "|Online Pharmacy        |10          |\n",
      "|Food Delivery Platform |8           |\n",
      "|Online lending platform|5           |\n",
      "|Education              |5           |\n",
      "+-----------------------+------------+\n",
      "only showing top 5 rows\n",
      "\n"
     ]
    }
   ],
   "source": [
    "sqlwaystarupgrowth1=spark.sql('''\n",
    "select SubVertical, count(*) as noofstartups from sqlwaydfconsumerinternstartup where SubVertical!='nan' group by SubVertical order by noofstartups desc\n",
    "''').show(5, truncate=False)"
   ]
  },
  {
   "cell_type": "code",
   "execution_count": 82,
   "metadata": {},
   "outputs": [
    {
     "name": "stdout",
     "output_type": "stream",
     "text": [
      "+-----------------------+------------+\n",
      "|SubVertical            |noofstartups|\n",
      "+-----------------------+------------+\n",
      "|Online Lending Platform|11          |\n",
      "+-----------------------+------------+\n",
      "\n"
     ]
    }
   ],
   "source": [
    "sqlwaystarupgrowth1=spark.sql('''\n",
    "select SubVertical, count(*) as noofstartups from sqlwaydfconsumerinternstartup where SubVertical!='nan' group by SubVertical order by noofstartups desc limit 1\n",
    "''').show(truncate=False)"
   ]
  },
  {
   "cell_type": "markdown",
   "metadata": {},
   "source": [
    "### Ans 3: Which SubVertical had the highest growth(in funding) over the years?"
   ]
  },
  {
   "cell_type": "code",
   "execution_count": 97,
   "metadata": {},
   "outputs": [],
   "source": [
    "sqlwaysubverticleamount1=spark.sql('''\n",
    "SELECT SubVertical, REGEXP_REPLACE( Amount_in_USD, '[^0-9]+', '' ) AS amountz  FROM sqlwaydfconsumerinternstartup \n",
    "''')"
   ]
  },
  {
   "cell_type": "code",
   "execution_count": 98,
   "metadata": {},
   "outputs": [
    {
     "name": "stdout",
     "output_type": "stream",
     "text": [
      "+------------------------------------------------+-------+\n",
      "|SubVertical                                     |amountz|\n",
      "+------------------------------------------------+-------+\n",
      "|Finance management Mobile app                   |       |\n",
      "|Online Car Repair and Servicing Booking platform|       |\n",
      "|Truck Aggregator & Booking platform             |75000  |\n",
      "|Self Drive Car Rental                           |400000 |\n",
      "|Online Salon Aggregator                         |       |\n",
      "+------------------------------------------------+-------+\n",
      "only showing top 5 rows\n",
      "\n"
     ]
    }
   ],
   "source": [
    "sqlwaysubverticleamount1.show(5, truncate=False)"
   ]
  },
  {
   "cell_type": "code",
   "execution_count": 99,
   "metadata": {},
   "outputs": [],
   "source": [
    "sqlwaysubverticleamount1.createOrReplaceTempView('sqlwaysubverticleamount1')"
   ]
  },
  {
   "cell_type": "code",
   "execution_count": 100,
   "metadata": {},
   "outputs": [],
   "source": [
    "sqlwaysubverticleamount2=spark.sql('''\n",
    "SELECT SubVertical, sum(amountz) as totalamountraisedforsubvert FROM sqlwaysubverticleamount1 where SubVertical!='nan'  group by SubVertical order by totalamountraisedforsubvert desc\n",
    "''')"
   ]
  },
  {
   "cell_type": "code",
   "execution_count": 101,
   "metadata": {},
   "outputs": [
    {
     "name": "stdout",
     "output_type": "stream",
     "text": [
      "+----------------------------------+---------------------------+\n",
      "|SubVertical                       |totalamountraisedforsubvert|\n",
      "+----------------------------------+---------------------------+\n",
      "|Bike Taxi                         |3.9E9                      |\n",
      "|Online Marketplace                |2.6487E9                   |\n",
      "|ECommerce Marketplace             |1.7E9                      |\n",
      "|E-Books                           |1.51095E9                  |\n",
      "|Mobile Wallet & ECommerce platform|1.46E9                     |\n",
      "|Mobile Wallet                     |1.057E9                    |\n",
      "|Private Equity Firm               |6.0E8                      |\n",
      "|Business development              |5.85E8                     |\n",
      "|Hospitality                       |4.88997554E8               |\n",
      "|Wearable Fitness Bands            |4.5E8                      |\n",
      "|App based cab aggregator          |3.3E8                      |\n",
      "|Online Grocery & Food Store       |3.0E8                      |\n",
      "|Robotics                          |3.0E8                      |\n",
      "|Scooter sharing app               |2.83E8                     |\n",
      "|Hybrid Reactor Biodigestor        |2.73903468E8               |\n",
      "|Diversified Financial             |2.7E8                      |\n",
      "|Cab Aggregator App                |2.6E8                      |\n",
      "|Online Lending Platform           |2.559E8                    |\n",
      "|Branded budget hotels marketplace |2.5E8                      |\n",
      "|Branded Budget Hotels Aggregator  |2.5E8                      |\n",
      "+----------------------------------+---------------------------+\n",
      "only showing top 20 rows\n",
      "\n"
     ]
    }
   ],
   "source": [
    "sqlwaysubverticleamount2.show(20, truncate=False)"
   ]
  },
  {
   "cell_type": "code",
   "execution_count": 102,
   "metadata": {},
   "outputs": [],
   "source": [
    "sqlwaysubverticleamount3=spark.sql('''\n",
    "SELECT SubVertical, sum(amountz) as totalamountraisedforsubvert FROM sqlwaysubverticleamount1 where SubVertical!='nan'  group by SubVertical order by totalamountraisedforsubvert desc limit 1\n",
    "''')"
   ]
  },
  {
   "cell_type": "code",
   "execution_count": 103,
   "metadata": {},
   "outputs": [
    {
     "name": "stdout",
     "output_type": "stream",
     "text": [
      "+-----------+---------------------------+\n",
      "|SubVertical|totalamountraisedforsubvert|\n",
      "+-----------+---------------------------+\n",
      "|Bike Taxi  |3.9E9                      |\n",
      "+-----------+---------------------------+\n",
      "\n"
     ]
    }
   ],
   "source": [
    "sqlwaysubverticleamount3.show(truncate=False)"
   ]
  },
  {
   "cell_type": "code",
   "execution_count": null,
   "metadata": {},
   "outputs": [],
   "source": []
  }
 ],
 "metadata": {
  "kernelspec": {
   "display_name": "Python 3",
   "language": "python",
   "name": "python3"
  },
  "language_info": {
   "codemirror_mode": {
    "name": "ipython",
    "version": 3
   },
   "file_extension": ".py",
   "mimetype": "text/x-python",
   "name": "python",
   "nbconvert_exporter": "python",
   "pygments_lexer": "ipython3",
   "version": "3.8.3"
  }
 },
 "nbformat": 4,
 "nbformat_minor": 4
}
